{
 "cells": [
  {
   "cell_type": "code",
   "execution_count": 1,
   "id": "f1486735-785f-476b-b28a-24b3d6b92821",
   "metadata": {},
   "outputs": [],
   "source": [
    "name = \"lencia\""
   ]
  },
  {
   "cell_type": "code",
   "execution_count": 2,
   "id": "3e9fc922-7867-47d5-a2e9-022c75273de0",
   "metadata": {},
   "outputs": [
    {
     "name": "stdout",
     "output_type": "stream",
     "text": [
      "hello, this practice notebook belongs to lencia\n"
     ]
    }
   ],
   "source": [
    "print(\"hello, this practice notebook belongs to\", name)"
   ]
  },
  {
   "cell_type": "code",
   "execution_count": null,
   "id": "8e7886f4-e996-40d2-bfc2-a32e1215553f",
   "metadata": {},
   "outputs": [],
   "source": []
  }
 ],
 "metadata": {
  "kernelspec": {
   "display_name": "Python 3 (ipykernel)",
   "language": "python",
   "name": "python3"
  },
  "language_info": {
   "codemirror_mode": {
    "name": "ipython",
    "version": 3
   },
   "file_extension": ".py",
   "mimetype": "text/x-python",
   "name": "python",
   "nbconvert_exporter": "python",
   "pygments_lexer": "ipython3",
   "version": "3.9.12"
  }
 },
 "nbformat": 4,
 "nbformat_minor": 5
}
